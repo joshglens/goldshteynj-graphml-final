{
 "cells": [
  {
   "cell_type": "markdown",
   "source": [
    "Joshua Goldshteyn\n",
    "Graph Machine Learning Final Project SimpliText\n",
    "2/21/2023\n",
    "Word2Vec Trainer"
   ],
   "metadata": {
    "collapsed": false,
    "pycharm": {
     "name": "#%% md\n"
    }
   }
  },
  {
   "cell_type": "code",
   "execution_count": 33,
   "outputs": [],
   "source": [
    "# Python program to generate word vectors using Word2Vec\n",
    "\n",
    "# importing all necessary modules\n",
    "from nltk.tokenize import sent_tokenize, word_tokenize\n",
    "import warnings\n",
    "\n",
    "warnings.filterwarnings(action = 'ignore')\n",
    "\n",
    "import gensim\n",
    "from gensim.models import Word2Vec\n",
    "import pickle"
   ],
   "metadata": {
    "collapsed": false,
    "pycharm": {
     "name": "#%%\n"
    }
   }
  },
  {
   "cell_type": "code",
   "execution_count": 2,
   "outputs": [],
   "source": [
    "#  Reads ‘alice.txt’ file\n",
    "sample = open(\"english_wikipedia_filtered_abstracts.xml\", encoding='utf-8')\n",
    "s = sample.read()"
   ],
   "metadata": {
    "collapsed": false,
    "pycharm": {
     "name": "#%%\n"
    }
   }
  },
  {
   "cell_type": "code",
   "execution_count": 3,
   "outputs": [],
   "source": [
    "# Replaces escape character with space\n",
    "f = s.replace(\"\\n\", \" \")"
   ],
   "metadata": {
    "collapsed": false,
    "pycharm": {
     "name": "#%%\n"
    }
   }
  },
  {
   "cell_type": "code",
   "execution_count": 4,
   "outputs": [],
   "source": [
    "tokenized_file = sent_tokenize(f)"
   ],
   "metadata": {
    "collapsed": false,
    "pycharm": {
     "name": "#%%\n"
    }
   }
  },
  {
   "cell_type": "code",
   "execution_count": 5,
   "outputs": [
    {
     "name": "stdout",
     "output_type": "stream",
     "text": [
      "<class 'list'>\n",
      "3936368\n"
     ]
    }
   ],
   "source": [
    "print(type(tokenized_file))\n",
    "print(len(tokenized_file))"
   ],
   "metadata": {
    "collapsed": false,
    "pycharm": {
     "name": "#%%\n"
    }
   }
  },
  {
   "cell_type": "code",
   "execution_count": 6,
   "outputs": [
    {
     "name": "stdout",
     "output_type": "stream",
     "text": [
      "['Anarchism is a political philosophy and movement that is skeptical of all justifications for authority and seeks to abolish the institutions it claims maintain unnecessary coercion and hierarchy typically including though not necessarily limited to governments nation states and capitalism.', 'Anarchism advocates for the replacement of the state with stateless societies or other forms of free associations.', 'Albedo   is the measure of the diffuse reflection of solar radiation out of the total solar radiation and measured on a scale from 0 corresponding to a black body that absorbs all incident radiation to 1 corresponding to a body that reflects all incident radiation.', 'A-sharp We dare defend our rights In Greek mythology Achilles   or Achilleus  Retrieved 5 May 2017. the latter being the dative of the former.', 'deathplaceChalcis Euboea Macedonian Empire An American in Paris is a jazz-influenced orchestral piece by American composer George Gershwin first performed in 1928.', 'It was inspired by the time that Gershwin had spent in Paris and evokes the sights and energy of the French capital during the .', 'The Academy Award for Best Production Design recognizes achievement for art direction in film.', 'The categorys original name was Best Art Direction but was changed to its current name in 2012 for the 85th Academy Awards.', 'Oscar  starring        Animalia is an illustrated childrens book by Graeme Base.', 'It was originally published in 1986 followed by a tenth anniversary edition in 1996 and a 25th anniversary edition in 2012. International Atomic Time abbreviated TAI from its French name Temps atomique 1975 is a high-precision atomic coordinate time standard based on the notional passage of proper time on Earths geoid.']\n"
     ]
    }
   ],
   "source": [
    "print(tokenized_file[0:10])"
   ],
   "metadata": {
    "collapsed": false,
    "pycharm": {
     "name": "#%%\n"
    }
   }
  },
  {
   "cell_type": "code",
   "execution_count": 8,
   "outputs": [
    {
     "name": "stdout",
     "output_type": "stream",
     "text": [
      "0.025404128882258976\n",
      "0.05080825776451795\n",
      "0.07621238664677693\n",
      "0.1016165155290359\n",
      "0.12702064441129488\n",
      "0.15242477329355386\n",
      "0.17782890217581282\n",
      "0.2032330310580718\n",
      "0.2286371599403308\n",
      "0.25404128882258975\n",
      "0.2794454177048487\n",
      "0.3048495465871077\n",
      "0.3302536754693667\n",
      "0.35565780435162564\n",
      "0.38106193323388465\n",
      "0.4064660621161436\n",
      "0.43187019099840257\n",
      "0.4572743198806616\n",
      "0.48267844876292054\n",
      "0.5080825776451795\n",
      "0.5334867065274385\n",
      "0.5588908354096974\n",
      "0.5842949642919565\n",
      "0.6096990931742154\n",
      "0.6351032220564744\n",
      "0.6605073509387334\n",
      "0.6859114798209923\n",
      "0.7113156087032513\n",
      "0.7367197375855103\n",
      "0.7621238664677693\n",
      "0.7875279953500283\n",
      "0.8129321242322872\n",
      "0.8383362531145462\n",
      "0.8637403819968051\n",
      "0.8891445108790641\n",
      "0.9145486397613232\n",
      "0.9399527686435821\n",
      "0.9653568975258411\n",
      "0.9907610264081\n"
     ]
    }
   ],
   "source": [
    "data = []\n",
    "\n",
    "current = 0\n",
    "# iterate through each sentence in the file\n",
    "for i in tokenized_file:\n",
    "    temp = []\n",
    "\n",
    "    # tokenize the sentence into words\n",
    "    for j in word_tokenize(i):\n",
    "        temp.append(j.lower())\n",
    "\n",
    "    data.append(temp)\n",
    "\n",
    "    current+=1\n",
    "    if current % 100000 == 0:\n",
    "        print(current / len(tokenized_file))\n"
   ],
   "metadata": {
    "collapsed": false,
    "pycharm": {
     "name": "#%%\n"
    }
   }
  },
  {
   "cell_type": "code",
   "execution_count": 9,
   "outputs": [
    {
     "name": "stdout",
     "output_type": "stream",
     "text": [
      "[['anarchism', 'is', 'a', 'political', 'philosophy', 'and', 'movement', 'that', 'is', 'skeptical', 'of', 'all', 'justifications', 'for', 'authority', 'and', 'seeks', 'to', 'abolish', 'the', 'institutions', 'it', 'claims', 'maintain', 'unnecessary', 'coercion', 'and', 'hierarchy', 'typically', 'including', 'though', 'not', 'necessarily', 'limited', 'to', 'governments', 'nation', 'states', 'and', 'capitalism', '.'], ['anarchism', 'advocates', 'for', 'the', 'replacement', 'of', 'the', 'state', 'with', 'stateless', 'societies', 'or', 'other', 'forms', 'of', 'free', 'associations', '.'], ['albedo', 'is', 'the', 'measure', 'of', 'the', 'diffuse', 'reflection', 'of', 'solar', 'radiation', 'out', 'of', 'the', 'total', 'solar', 'radiation', 'and', 'measured', 'on', 'a', 'scale', 'from', '0', 'corresponding', 'to', 'a', 'black', 'body', 'that', 'absorbs', 'all', 'incident', 'radiation', 'to', '1', 'corresponding', 'to', 'a', 'body', 'that', 'reflects', 'all', 'incident', 'radiation', '.'], ['a-sharp', 'we', 'dare', 'defend', 'our', 'rights', 'in', 'greek', 'mythology', 'achilles', 'or', 'achilleus', 'retrieved', '5', 'may', '2017.', 'the', 'latter', 'being', 'the', 'dative', 'of', 'the', 'former', '.'], ['deathplacechalcis', 'euboea', 'macedonian', 'empire', 'an', 'american', 'in', 'paris', 'is', 'a', 'jazz-influenced', 'orchestral', 'piece', 'by', 'american', 'composer', 'george', 'gershwin', 'first', 'performed', 'in', '1928', '.'], ['it', 'was', 'inspired', 'by', 'the', 'time', 'that', 'gershwin', 'had', 'spent', 'in', 'paris', 'and', 'evokes', 'the', 'sights', 'and', 'energy', 'of', 'the', 'french', 'capital', 'during', 'the', '.'], ['the', 'academy', 'award', 'for', 'best', 'production', 'design', 'recognizes', 'achievement', 'for', 'art', 'direction', 'in', 'film', '.'], ['the', 'categorys', 'original', 'name', 'was', 'best', 'art', 'direction', 'but', 'was', 'changed', 'to', 'its', 'current', 'name', 'in', '2012', 'for', 'the', '85th', 'academy', 'awards', '.'], ['oscar', 'starring', 'animalia', 'is', 'an', 'illustrated', 'childrens', 'book', 'by', 'graeme', 'base', '.'], ['it', 'was', 'originally', 'published', 'in', '1986', 'followed', 'by', 'a', 'tenth', 'anniversary', 'edition', 'in', '1996', 'and', 'a', '25th', 'anniversary', 'edition', 'in', '2012.', 'international', 'atomic', 'time', 'abbreviated', 'tai', 'from', 'its', 'french', 'name', 'temps', 'atomique', '1975', 'is', 'a', 'high-precision', 'atomic', 'coordinate', 'time', 'standard', 'based', 'on', 'the', 'notional', 'passage', 'of', 'proper', 'time', 'on', 'earths', 'geoid', '.'], ['tai', 'is', 'a', 'weighted', 'average', 'of', 'the', 'time', 'kept', 'by', 'over', '450', 'atomic', 'clocks', 'in', 'over', '80', 'national', 'laboratories', 'worldwide', '.'], ['altruism', 'is', 'the', 'principle', 'and', 'moral', 'practice', 'of', 'concern', 'for', 'the', 'welfare', 'andor', 'happiness', 'of', 'other', 'human', 'beings', 'or', 'animals', 'resulting', 'in', 'a', 'quality', 'of', 'life', 'both', 'material', 'and', 'spiritual', '.'], ['it', 'is', 'a', 'traditional', 'virtue', 'in', 'many', 'cultures', 'and', 'a', 'core', 'aspect', 'of', 'various', 'religious', 'and', 'secular', 'worldviews', '.'], ['birthplace', 'saint', 'petersburg', 'saint', 'petersburg', 'governorate', 'russian', 'empire', 'birthplace', 'draguignan', 'france', 'birthplace', 'toronto', 'ontario', 'canada', 'abiyya', 'this', 'is', 'a', 'list', 'of', 'characters', 'in', 'ayn', 'rands', '1957', 'novel', 'atlas', 'shrugged', '.'], ['anthropology', 'is', 'the', 'scientific', 'study', 'of', 'humanity', 'concerned', 'with', 'human', 'behavior', 'human', 'biology', 'cultures', 'societies', 'and', 'linguistics', 'in', 'both', 'the', 'present', 'and', 'past', 'including', 'past', 'human', 'species', '.'], ['social', 'anthropology', 'studies', 'patterns', 'of', 'behavior', 'while', 'cultural', 'anthropology', 'studies', 'cultural', 'meaning', 'including', 'norms', 'and', 'values', '.'], ['agricultural', 'science', 'or', 'agriscience', 'for', 'short', 'meaning', 'amp', 'definition', 'for', 'uk', 'english', 'encyclopediaoxford', 'dictionary', 'of', 'english', 'urlhttpswww.lexico', '.'], ['alchemy', 'from', 'arabic', 'al-kmiy', 'from', 'ancient', 'greek', 'khumea', 'englishaccess-date30', 'september', '2018', 'is', 'an', 'ancient', 'branch', 'of', 'natural', 'philosophy', 'a', 'philosophical', 'and', 'protoscientific', 'tradition', 'that', 'was', 'historically', 'practiced', 'in', 'china', 'india', 'the', 'muslim', 'world', 'and', 'europe', '.'], ['in', 'its', 'western', 'form', 'alchemy', 'is', 'first', 'attested', 'in', 'a', 'number', 'of', 'pseudepigraphical', 'texts', 'written', 'in', 'greco-roman', 'egypt', 'during', 'the', 'first', 'few', 'centuries', 'ad', '.'], ['alien', 'primarily', 'refers', 'to', 'an', 'astronomer', 'is', 'a', 'scientist', 'in', 'the', 'field', 'of', 'astronomy', 'who', 'focuses', 'their', 'studies', 'on', 'a', 'specific', 'question', 'or', 'field', 'outside', 'the', 'scope', 'of', 'earth', '.'], ['they', 'observe', 'astronomical', 'objects', 'such', 'as', 'stars', 'planets', 'moons', 'comets', 'and', 'galaxies', 'in', 'either', 'observational', 'by', 'analyzing', 'the', 'data', 'or', 'theoretical', 'astronomy', '.'], ['ansix3.4-1968', 'ansix3', '.'], ['austin', 'is', 'the', 'capital', 'of', 'texas', 'in', 'the', 'united', 'states', '.'], ['animation', 'is', 'a', 'method', 'by', 'which', 'still', 'figures', 'are', 'manipulated', 'to', 'appear', 'as', 'moving', 'images', '.'], ['in', 'traditional', 'animation', 'images', 'are', 'drawn', 'or', 'painted', 'by', 'hand', 'on', 'transparent', 'celluloid', 'sheets', 'to', 'be', 'photographed', 'and', 'exhibited', 'on', 'film', '.'], ['residence', 'las', 'vegas', 'nevada', 'u.s', '.'], ['the', 'austroasiatic', 'languages', 'are', 'a', 'large', 'language', 'family', 'in', 'mainland', 'southeast', 'asia', 'and', 'south', 'asia', '.'], ['these', 'languages', 'are', 'scattered', 'throughout', 'parts', 'of', 'thailand', 'laos', 'india', 'myanmar', 'malaysia', 'bangladesh', 'nepal', 'and', 'southern', 'china', 'and', 'are', 'the', 'majority', 'languages', 'of', 'vietnam', 'and', 'cambodia', '.'], ['iso2', 'afa', 'commonname', 'andorra', 'in', 'mathematics', 'and', 'statistics', 'the', 'arithmetic', 'mean', 'arithmetic', 'average', 'or', 'just', 'the', 'mean', 'or', 'average', 'when', 'the', 'context', 'is', 'clear', 'is', 'the', 'sum', 'of', 'a', 'collection', 'of', 'numbers', 'divided', 'by', 'the', 'count', 'of', 'numbers', 'in', 'the', 'collection', '.'], ['the', 'collection', 'is', 'often', 'a', 'set', 'of', 'results', 'from', 'an', 'experiment', 'an', 'observational', 'study', 'or', 'a', 'survey', '.'], ['the', 'american', 'football', 'conference', 'afc', 'is', 'one', 'of', 'the', 'two', 'conferences', 'of', 'the', 'national', 'football', 'league', 'nfl', 'the', 'highest', 'professional', 'level', 'of', 'american', 'football', 'in', 'the', 'united', 'states', '.'], ['the', 'afc', 'and', 'its', 'counterpart', 'the', 'national', 'football', 'conference', 'nfc', 'each', 'contain', '16', 'teams', 'with', '4', 'divisions', '.'], ['animal', 'farm', 'is', 'a', 'beast', 'fable', 'in', 'the', 'form', 'of', 'a', 'satirical', 'allegorical', 'novella', 'by', 'george', 'orwell', 'first', 'published', 'in', 'england', 'on', '17', 'august', '1945', '.'], ['it', 'tells', 'the', 'story', 'of', 'a', 'group', 'of', 'farm', 'animals', 'who', 'rebel', 'against', 'their', 'human', 'farmer', 'hoping', 'to', 'create', 'a', 'society', 'where', 'the', 'animals', 'can', 'be', 'equal', 'free', 'and', 'happy', '.'], ['amphibia', 'tv', 'seriesother', 'uses', 'imageflag', 'flag', 'of', 'alaska.svg', 'agriculture', 'or', 'farming', 'is', 'the', 'practice', 'of', 'cultivating', 'plants', 'and', 'livestock', '.'], ['year1999', 'publisherinternational', 'labour', 'organization', 'isbn978-92-2-111517-5', 'page77', 'access-date13', 'september', '2010', 'url-statuslive', 'archive-urlhttpsweb', '.'], ['birthplace', 'godalming', 'surrey', 'england', 'ada', 'may', 'refer', 'to', 'aberdeen', 'is', 'a', 'city', 'in', 'scotland', '.'], ['analysis', 'of', 'variance', 'anova', 'is', 'a', 'collection', 'of', 'statistical', 'models', 'and', 'their', 'associated', 'estimation', 'procedures', 'such', 'as', 'the', 'variation', 'among', 'and', 'between', 'groups', 'used', 'to', 'analyze', 'the', 'differences', 'among', 'means', '.'], ['anova', 'was', 'developed', 'by', 'the', 'statistician', 'ronald', 'fisher', '.'], ['alkaline', 'united', 'states', 'appellate', 'procedure', 'involves', 'the', 'rules', 'and', 'regulations', 'for', 'filing', 'appeals', 'in', 'state', 'courts', 'and', 'federal', 'courts', '.'], ['the', 'nature', 'of', 'an', 'appeal', 'can', 'vary', 'greatly', 'depending', 'on', 'the', 'type', 'of', 'case', 'and', 'the', 'rules', 'of', 'the', 'court', 'in', 'the', 'jurisdiction', 'where', 'the', 'case', 'was', 'prosecuted', '.'], ['in', 'law', 'an', 'answer', 'was', 'originally', 'a', 'solemn', 'assertion', 'in', 'opposition', 'to', 'someone', 'or', 'something', 'and', 'thus', 'generally', 'any', 'counter-statement', 'or', 'defense', 'a', 'reply', 'to', 'a', 'question', 'or', 'response', 'or', 'objection', 'or', 'a', 'correct', 'solution', 'of', 'a', 'problem', '.'], ['arraignment', 'is', 'a', 'formal', 'reading', 'of', 'a', 'criminal', 'charging', 'document', 'in', 'the', 'presence', 'of', 'the', 'defendant', 'to', 'inform', 'them', 'of', 'the', 'charges', 'against', 'them', '.'], ['in', 'response', 'to', 'arraignment', 'in', 'some', 'jurisdictions', 'the', 'accused', 'is', 'expected', 'to', 'enter', 'a', 'plea', 'in', 'other', 'jurisdictions', 'no', 'plea', 'is', 'required', '.'], ['america', 'the', 'beautiful', 'is', 'a', 'patriotic', 'american', 'song', '.'], ['its', 'lyrics', 'were', 'written', 'by', 'katharine', 'lee', 'bates', 'and', 'its', 'music', 'was', 'composed', 'by', 'church', 'organist', 'and', 'choirmaster', 'samuel', 'a.', 'thumbhearing', 'aid', 'abacthe', 'medieval', 'bookliber', 'abaci', 'an', 'base', 'is', 'a', 'molecule', 'or', 'ion', 'capable', 'of', 'either', 'donating', 'a', 'electron', 'i.e', '.'], ['bitumen', 'is', 'a', 'sticky', 'black', 'highly', 'viscous', 'liquid', 'or', 'semi-solid', 'form', 'of', 'petroleum', '.'], ['in', 'the', 'u.', 'asa', 'film', 'speedother', 'usesansi', 'disambiguation', 'in', 'logic', 'and', 'philosophy', 'an', 'argument', 'is', 'an', 'attempt', 'to', 'persuade', 'someone', 'of', 'something', 'or', 'give', 'evidence', 'or', 'reasons', 'for', 'accepting', 'a', 'particular', 'conclusion', '.'], ['the', 'lunar', 'module', 'eagle', 'and', 'the', 'u.s.', '8', 'by', 'william', 'anders', 'an', 'astronaut', 'from', 'the', 'ancient', 'greek', 'meaning', 'star', 'and', 'meaning', 'sailor', 'is', 'a', 'person', 'trained', 'equipped', 'and', 'deployed', 'by', 'a', 'human', 'spaceflight', 'program', 'to', 'serve', 'as', 'a', 'commander', 'or', 'crew', 'member', 'aboard', 'a', 'spacecraft', '.'], ['although', 'generally', 'reserved', 'for', 'professional', 'space', 'travelers', 'the', 'term', 'is', 'sometimes', 'applied', 'to', 'anyone', 'who', 'travels', 'into', 'space', 'including', 'scientists', 'politicians', 'journalists', 'and', 'tourists', '.']]\n"
     ]
    }
   ],
   "source": [
    "print(data[0:50])"
   ],
   "metadata": {
    "collapsed": false,
    "pycharm": {
     "name": "#%%\n"
    }
   }
  },
  {
   "cell_type": "code",
   "execution_count": 10,
   "outputs": [
    {
     "name": "stdout",
     "output_type": "stream",
     "text": [
      "3936368\n"
     ]
    }
   ],
   "source": [
    "print(len(data))"
   ],
   "metadata": {
    "collapsed": false,
    "pycharm": {
     "name": "#%%\n"
    }
   }
  },
  {
   "cell_type": "code",
   "execution_count": 21,
   "metadata": {
    "collapsed": true
   },
   "outputs": [],
   "source": [
    "# Create CBOW model\n",
    "model1 = gensim.models.Word2Vec(data, min_count = 10,\n",
    "                              vector_size = 100, window = 5, workers=8)"
   ]
  },
  {
   "cell_type": "code",
   "execution_count": 27,
   "outputs": [
    {
     "name": "stdout",
     "output_type": "stream",
     "text": [
      "Cosine similarity between 'alice' and 'wonderland' - CBOW :  0.5700237\n",
      "Cosine similarity between 'alice' and 'machines' - CBOW :  0.766395\n"
     ]
    }
   ],
   "source": [
    "# Print results\n",
    "print(\"Cosine similarity between 'alice' \" +\n",
    "               \"and 'wonderland' - CBOW : \",\n",
    "    model1.wv.similarity('electronics', 'machines'))\n",
    "\n",
    "print(\"Cosine similarity between 'alice' \" +\n",
    "                 \"and 'machines' - CBOW : \",\n",
    "      model1.wv.similarity('yellow', 'green'))"
   ],
   "metadata": {
    "collapsed": false,
    "pycharm": {
     "name": "#%%\n"
    }
   }
  },
  {
   "cell_type": "code",
   "execution_count": 11,
   "outputs": [],
   "source": [
    "# Create Skip Gram model\n",
    "model2 = gensim.models.Word2Vec(data, min_count = 100, vector_size = 100,\n",
    "                                             window = 5, sg = 1, workers=16)"
   ],
   "metadata": {
    "collapsed": false,
    "pycharm": {
     "name": "#%%\n"
    }
   }
  },
  {
   "cell_type": "code",
   "execution_count": 20,
   "outputs": [
    {
     "name": "stdout",
     "output_type": "stream",
     "text": [
      "Cosine similarity between 'alice' and 'wonderland' - Skip Gram :  0.16844654\n",
      "Cosine similarity between 'alice' and 'machines' - Skip Gram :  0.56639963\n",
      "Cosine similarity between 'alice' and 'machines' - Skip Gram :  0.71647537\n",
      "Cosine similarity between 'grace' and 'green' - Skip Gram :  0.5438059\n"
     ]
    }
   ],
   "source": [
    "# Print results\n",
    "print(\"Cosine similarity between 'alice' \" +\n",
    "          \"and 'wonderland' - Skip Gram : \",\n",
    "    model2.wv.similarity('electronics', 'wonder'))\n",
    "\n",
    "print(\"Cosine similarity between 'alice' \" +\n",
    "            \"and 'machines' - Skip Gram : \",\n",
    "      model2.wv.similarity('electronics', 'machines'))\n",
    "\n",
    "print(\"Cosine similarity between 'alice' \" +\n",
    "            \"and 'machines' - Skip Gram : \",\n",
    "      model2.wv.similarity('yellow', 'orange'))\n",
    "\n",
    "print(\"Cosine similarity between 'grace' \" +\n",
    "            \"and 'green' - Skip Gram : \",\n",
    "      model2.wv.similarity('powerful', 'strong'))"
   ],
   "metadata": {
    "collapsed": false,
    "pycharm": {
     "name": "#%%\n"
    }
   }
  },
  {
   "cell_type": "code",
   "execution_count": 32,
   "outputs": [
    {
     "name": "stdout",
     "output_type": "stream",
     "text": [
      "[('sorrow', 0.595985472202301), ('eternal', 0.5848435759544373), ('wrath', 0.5698753595352173), ('cruel', 0.5672875642776489), ('redemption', 0.5620955228805542), ('beggars', 0.5615037083625793), ('splendid', 0.5518934726715088), ('fiery', 0.550401508808136), ('magnificent', 0.5483965873718262), ('shining', 0.5474779605865479)]\n"
     ]
    }
   ],
   "source": [
    "similars = model2.wv.most_similar('glorious')\n",
    "print(similars)"
   ],
   "metadata": {
    "collapsed": false,
    "pycharm": {
     "name": "#%%\n"
    }
   }
  },
  {
   "cell_type": "code",
   "execution_count": 34,
   "outputs": [],
   "source": [
    "pickle.dump(model2, open('w2v_english.pkl', 'wb'))"
   ],
   "metadata": {
    "collapsed": false,
    "pycharm": {
     "name": "#%%\n"
    }
   }
  },
  {
   "cell_type": "code",
   "execution_count": null,
   "outputs": [],
   "source": [],
   "metadata": {
    "collapsed": false,
    "pycharm": {
     "name": "#%%\n"
    }
   }
  }
 ],
 "metadata": {
  "kernelspec": {
   "display_name": "Python 3",
   "language": "python",
   "name": "python3"
  },
  "language_info": {
   "codemirror_mode": {
    "name": "ipython",
    "version": 2
   },
   "file_extension": ".py",
   "mimetype": "text/x-python",
   "name": "python",
   "nbconvert_exporter": "python",
   "pygments_lexer": "ipython2",
   "version": "2.7.6"
  }
 },
 "nbformat": 4,
 "nbformat_minor": 0
}