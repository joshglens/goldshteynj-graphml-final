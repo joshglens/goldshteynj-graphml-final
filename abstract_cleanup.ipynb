{
 "cells": [
  {
   "cell_type": "markdown",
   "source": [
    "Joshua Goldshteyn\n",
    "Graph Machine Learning Final Project SimpliText\n",
    "2/21/2023\n",
    "Abstract Preprocessing"
   ],
   "metadata": {
    "collapsed": false,
    "pycharm": {
     "name": "#%% md\n"
    }
   }
  },
  {
   "cell_type": "code",
   "execution_count": 8,
   "outputs": [],
   "source": [
    "import re"
   ],
   "metadata": {
    "collapsed": false,
    "pycharm": {
     "name": "#%%\n"
    }
   }
  },
  {
   "cell_type": "code",
   "execution_count": 1,
   "metadata": {
    "collapsed": true
   },
   "outputs": [],
   "source": [
    "with open('english_wikipedia_all_abstracts.xml', 'r', encoding='utf-8') as file:\n",
    "    data = file.readlines()"
   ]
  },
  {
   "cell_type": "code",
   "execution_count": 50,
   "outputs": [],
   "source": [
    "filtered_english = []"
   ],
   "metadata": {
    "collapsed": false,
    "pycharm": {
     "name": "#%%\n"
    }
   }
  },
  {
   "cell_type": "code",
   "execution_count": 51,
   "outputs": [
    {
     "name": "stdout",
     "output_type": "stream",
     "text": [
      "0.0\n",
      "0.012306413500933066\n",
      "0.024612827001866133\n",
      "0.0369192405027992\n",
      "0.049225654003732265\n",
      "0.06153206750466533\n",
      "0.0738384810055984\n",
      "0.08614489450653147\n",
      "0.09845130800746453\n",
      "0.11075772150839759\n",
      "0.12306413500933067\n",
      "0.13537054851026373\n",
      "0.1476769620111968\n",
      "0.15998337551212985\n",
      "0.17228978901306294\n",
      "0.184596202513996\n",
      "0.19690261601492906\n",
      "0.20920902951586212\n",
      "0.22151544301679518\n",
      "0.23382185651772824\n",
      "0.24612827001866133\n",
      "0.25843468351959437\n",
      "0.27074109702052745\n",
      "0.28304751052146054\n",
      "0.2953539240223936\n",
      "0.30766033752332667\n",
      "0.3199667510242597\n",
      "0.3322731645251928\n",
      "0.3445795780261259\n",
      "0.3568859915270589\n",
      "0.369192405027992\n",
      "0.38149881852892503\n",
      "0.3938052320298581\n",
      "0.40611164553079115\n",
      "0.41841805903172424\n",
      "0.43072447253265733\n",
      "0.44303088603359037\n",
      "0.45533729953452345\n",
      "0.4676437130354565\n",
      "0.4799501265363896\n",
      "0.49225654003732267\n",
      "0.5045629535382558\n",
      "0.5168693670391887\n",
      "0.5291757805401218\n",
      "0.5414821940410549\n",
      "0.553788607541988\n",
      "0.5660950210429211\n",
      "0.5784014345438541\n",
      "0.5907078480447872\n",
      "0.6030142615457202\n",
      "0.6153206750466533\n",
      "0.6276270885475864\n",
      "0.6399335020485194\n",
      "0.6522399155494525\n",
      "0.6645463290503856\n",
      "0.6768527425513187\n",
      "0.6891591560522518\n",
      "0.7014655695531847\n",
      "0.7137719830541178\n",
      "0.7260783965550509\n",
      "0.738384810055984\n",
      "0.7506912235569171\n",
      "0.7629976370578501\n",
      "0.7753040505587832\n",
      "0.7876104640597162\n",
      "0.7999168775606493\n",
      "0.8122232910615823\n",
      "0.8245297045625154\n",
      "0.8368361180634485\n",
      "0.8491425315643816\n",
      "0.8614489450653147\n",
      "0.8737553585662476\n",
      "0.8860617720671807\n",
      "0.8983681855681138\n",
      "0.9106745990690469\n",
      "0.92298101256998\n",
      "0.935287426070913\n",
      "0.9475938395718461\n",
      "0.9599002530727792\n",
      "0.9722066665737122\n",
      "0.9845130800746453\n",
      "0.9968194935755783\n"
     ]
    }
   ],
   "source": [
    "for count, line in enumerate(data):\n",
    "    if \"abstract\" in line and \"==Events==\" not in line:\n",
    "        filtered_english.append(re.sub(r'[^a-zA-Z0-9 .\\-]', '', line[10:-11]))\n",
    "    if count % 10000000 == 0:\n",
    "        print(count/len(data))"
   ],
   "metadata": {
    "collapsed": false,
    "pycharm": {
     "name": "#%%\n"
    }
   }
  },
  {
   "cell_type": "code",
   "execution_count": 52,
   "outputs": [
    {
     "name": "stdout",
     "output_type": "stream",
     "text": [
      "[' mediatype        ', 'Applied ethics refers to the practical aspect of moral considerations. It is ethics with respect to real-world actions and their moral considerations in the areas of private and public life the professions health technology law and leadership.', 'thumbThe graph of a functiongraph of the absolute value function for real numbers', 'An analog signal is any continuous signal representing some other quantity i.e.', 'Late Cretaceous - Recent', 'Hercule Poirot   is a fictional Belgian detective created by British writer Agatha Christie. Poirot is one of Christies most famous and long-running characters appearing in 33 novels two plays Black Coffee and Alibi and more than 50 short stories published between 1920 and 1975.', 'Miss Marple is a fictional character in Agatha Christies crime novels and short stories. Jane Marple lives in the village of St.', 'APR', 'Aug', '', 'In chemistry an alcohol is a type of organic compound that carries at least one hydroxyl  functional group  bound to a saturated carbon atom. The term alcohol originally referred to the primary alcohol ethanol ethyl alcohol which is used as a drug and is the main alcohol present in alcoholic drinks.', ' nativename       Acaill Oilen Acla', ' birthplace       Newark New Jersey U.S.', 'In mathematics a field  is algebraically closed if every non-constant polynomial in  the univariate polynomial ring with coefficients in  has a root in .', 'birthdate ', 'The aspect ratio of a geometric shape is the ratio of its sizes in different dimensions. For example the aspect ratio of a rectangle is the ratio of its longer side to its shorter sidethe ratio of width to height when the rectangle is oriented as a landscape.', 'Auto racing also known as car racing motor racing or automobile racing is a motorsport involving the racing of automobiles for competition.', 'Anarcho-capitalism or colloquially ancap is an anti-statist libertarian and anti-political philosophy and economic theory that seeks to abolish centralized states in favor of stateless societies with systems of private property enforced by private agencies the non-aggression principle free markets and the right-libertarian interpretation of self-ownership which extends the concept to include control of private property as part of the self. In the absence of statute anarcho-capitalists hold that society tends to contractually self-regulate and civilize through participation in the free market which they describe as a voluntary society involving the voluntary exchange of services and goods.', ' footnotes          Although many artists renderings of Aristophanes portray him with flowing curly hair several jests in his plays indicate that he may have been prematurely bald.', ' image  Bundesarchiv Bild 183-D0116-0041-019 Albert Schweitzer.jpg', 'The Austrian School is a heterodox school of economic thought that advocates strict adherence to methodological individualism the concept that social phenomena result exclusively from the motivations and actions of individuals. Austrian school theorists hold that economic theory should be exclusively derived from basic principles of human action.', ' image            Five day old Abscess.jpg', ' subdivisiontype1       ', ' subdivisiontype                 Country', ' genus          Amblyopsis', 'Abatement refers generally to a lessening diminution reduction or moderation specifically it may refer to', 'An amateur  is generally considered a person who pursues an avocation independent from their source of income. Amateurs and their pursuits are also described as popular informal self-taught user-generated DIY and hobbyist.', ' birthplace              Sainte-Foy-ls-Lyon Rhne France', 'litcolor  Black where it is traditionGeneral Instruction of the Roman Missal 346 otherwise violet or purpleGeneral Instruction of the Roman Missal 346', ' image        Anatole France young years.jpg', ' image  Andr Gide.jpg', 'Algorithms for calculating variance play a major role in computational statistics. A key difficulty in the design of good algorithms for this problem is that formulas for the variance may involve sums of squares which can lead to numerical instability as well as to arithmetic overflow when dealing with large values.', ' synonyms  ', 'title        Census population and average annual growth rate', 'The politics of Antigua and Barbuda takes place in a framework of a unitary parliamentary representative democratic monarchy wherein the sovereign of Antigua and Barbuda is the head of state appointing a governor-general to act as vice-regal representative in the nation. A prime minister is appointed by the governor-general as the head of government and of a multi-party system the prime minister advises the governor-general on the appointment of a Council of Ministers.', 'Telecommunications in Antigua and Barbuda are via media in the telecommunications industry. This article is about communications systems in Antigua and Barbuda.', ' headquarters        Camp Blizzard Saint George Parish Antigua and Barbuda', 'Antisemitism also spelled anti-semitism or anti-Semitism is hostility to prejudice towards or discrimination against Jews.See for example', 'Upper-middle income economy', ' area ranking          112th', 'The Republic of Azerbaijan is a member of the United Nations the Non-Aligned Movement the Organization for Security and Cooperation in Europe NATOs Partnership for Peace the Euro-Atlantic Partnership Council the World Health Organization the European Bank for Reconstruction and Development the Council of Europe CFE Treaty the Community of Democracies the International Monetary Fund and the World Bank.', ' image               Azerbaijani Armed Forces logo.svg', 'thumb300pxSatellite image of Armenia', ' density             102.73km2', 'The politics of Armenia take place in the framework of the parliamentary representative democratic republic of Armenia whereby the President of Armenia is the head of state and the Prime Minister of Armenia the head of government and of a multi-party system. Executive power is exercised by the President and the Government.', 'Upper-middle income economy', 'This article considers transport in Armenia.', ' image               FlagoftheArmenianMinistryofDefenseFOTWCRWFlags.png', 'Since its independence Armenia has maintained a policy of complementarism by trying to have positive and friendly relations with Iran Russia and the West including the United States and the European Union. Armenian Foreign Policy Between Russia Iran And U.', 'This article is about the demographics of American Samoa including population density ethnicity education level health of the populace economic status religious affiliations and other aspects of the population. American Samoa is an unincorporated territory of the United States located in the South Pacific Ocean.']\n"
     ]
    }
   ],
   "source": [
    "print(filtered_english[200])"
   ],
   "metadata": {
    "collapsed": false,
    "pycharm": {
     "name": "#%%\n"
    }
   }
  },
  {
   "cell_type": "code",
   "execution_count": 53,
   "outputs": [],
   "source": [
    "with open('english_wikipedia_filtered_abstracts.xml', 'w', encoding='utf-8') as file:\n",
    "    file.write('\\n'.join(filtered_english) + '\\n')"
   ],
   "metadata": {
    "collapsed": false,
    "pycharm": {
     "name": "#%%\n"
    }
   }
  },
  {
   "cell_type": "code",
   "execution_count": 56,
   "outputs": [
    {
     "name": "stdout",
     "output_type": "stream",
     "text": [
      "0.0\n",
      "0.4465495783902156\n",
      "0.8930991567804312\n"
     ]
    }
   ],
   "source": [
    "with open('simple_wikipedia_all_abstracts.xml', 'r', encoding='utf-8') as file:\n",
    "    data = file.readlines()\n",
    "\n",
    "simple_english = []\n",
    "\n",
    "for count, line in enumerate(data):\n",
    "    if \"abstract\" in line and \"==Events==\" not in line:\n",
    "        simple_english.append(re.sub(r'[^a-zA-Z0-9 .\\-]', '', line[10:-11]))\n",
    "    if count % 1000000 == 0:\n",
    "        print(count/len(data))\n",
    "\n",
    "with open('simple_wikipedia_filtered_abstracts.xml', 'w', encoding='utf-8') as file:\n",
    "    file.write('\\n'.join(simple_english) + '\\n')"
   ],
   "metadata": {
    "collapsed": false,
    "pycharm": {
     "name": "#%%\n"
    }
   }
  },
  {
   "cell_type": "code",
   "execution_count": null,
   "outputs": [],
   "source": [],
   "metadata": {
    "collapsed": false,
    "pycharm": {
     "name": "#%%\n"
    }
   }
  }
 ],
 "metadata": {
  "kernelspec": {
   "display_name": "Python 3",
   "language": "python",
   "name": "python3"
  },
  "language_info": {
   "codemirror_mode": {
    "name": "ipython",
    "version": 2
   },
   "file_extension": ".py",
   "mimetype": "text/x-python",
   "name": "python",
   "nbconvert_exporter": "python",
   "pygments_lexer": "ipython2",
   "version": "2.7.6"
  }
 },
 "nbformat": 4,
 "nbformat_minor": 0
}